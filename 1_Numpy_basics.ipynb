{
 "cells": [
  {
   "cell_type": "code",
   "execution_count": 4,
   "metadata": {
    "executionInfo": {
     "elapsed": 622,
     "status": "ok",
     "timestamp": 1738822862142,
     "user": {
      "displayName": "Darshan D",
      "userId": "11054278787583435560"
     },
     "user_tz": -330
    },
    "id": "dGY-QQNcxUjV"
   },
   "outputs": [],
   "source": [
    "# numpy >> numerical python\n",
    "# developed in 2005 by Travis Oliphant\n",
    "# before 2005, there were special mathematical tools (similar to Tora, Linga)"
   ]
  },
  {
   "cell_type": "code",
   "execution_count": 2,
   "metadata": {
    "executionInfo": {
     "elapsed": 479,
     "status": "ok",
     "timestamp": 1738822912481,
     "user": {
      "displayName": "Darshan D",
      "userId": "11054278787583435560"
     },
     "user_tz": -330
    },
    "id": "Wl8ic4WF6byA"
   },
   "outputs": [],
   "source": [
    "import numpy as np  #as is alias"
   ]
  },
  {
   "cell_type": "code",
   "execution_count": 3,
   "metadata": {
    "colab": {
     "base_uri": "https://localhost:8080/",
     "height": 39
    },
    "executionInfo": {
     "elapsed": 472,
     "status": "ok",
     "timestamp": 1738822917389,
     "user": {
      "displayName": "Darshan D",
      "userId": "11054278787583435560"
     },
     "user_tz": -330
    },
    "id": "2TPgWTag64Dt",
    "outputId": "c9ad7ba3-cd13-4a88-f374-ba9c53dcfd8c"
   },
   "outputs": [
    {
     "data": {
      "text/plain": [
       "'2.2.2'"
      ]
     },
     "execution_count": 3,
     "metadata": {},
     "output_type": "execute_result"
    }
   ],
   "source": [
    "np.__version__"
   ]
  },
  {
   "cell_type": "code",
   "execution_count": 5,
   "metadata": {
    "colab": {
     "base_uri": "https://localhost:8080/"
    },
    "executionInfo": {
     "elapsed": 609,
     "status": "ok",
     "timestamp": 1738822931776,
     "user": {
      "displayName": "Darshan D",
      "userId": "11054278787583435560"
     },
     "user_tz": -330
    },
    "id": "XHV4tXNH7BWk",
    "outputId": "f6cc6663-0131-44a6-9dd8-702795d24610"
   },
   "outputs": [
    {
     "name": "stdout",
     "output_type": "stream",
     "text": [
      "\n",
      "NumPy\n",
      "=====\n",
      "\n",
      "Provides\n",
      "  1. An array object of arbitrary homogeneous items\n",
      "  2. Fast mathematical operations over arrays\n",
      "  3. Linear Algebra, Fourier Transforms, Random Number Generation\n",
      "\n",
      "How to use the documentation\n",
      "----------------------------\n",
      "Documentation is available in two forms: docstrings provided\n",
      "with the code, and a loose standing reference guide, available from\n",
      "`the NumPy homepage <https://numpy.org>`_.\n",
      "\n",
      "We recommend exploring the docstrings using\n",
      "`IPython <https://ipython.org>`_, an advanced Python shell with\n",
      "TAB-completion and introspection capabilities.  See below for further\n",
      "instructions.\n",
      "\n",
      "The docstring examples assume that `numpy` has been imported as ``np``::\n",
      "\n",
      "  >>> import numpy as np\n",
      "\n",
      "Code snippets are indicated by three greater-than signs::\n",
      "\n",
      "  >>> x = 42\n",
      "  >>> x = x + 1\n",
      "\n",
      "Use the built-in ``help`` function to view a function's docstring::\n",
      "\n",
      "  >>> help(np.sort)\n",
      "  ... # doctest: +SKIP\n",
      "\n",
      "For some objects, ``np.info(obj)`` may provide additional help.  This is\n",
      "particularly true if you see the line \"Help on ufunc object:\" at the top\n",
      "of the help() page.  Ufuncs are implemented in C, not Python, for speed.\n",
      "The native Python help() does not know how to view their help, but our\n",
      "np.info() function does.\n",
      "\n",
      "Available subpackages\n",
      "---------------------\n",
      "lib\n",
      "    Basic functions used by several sub-packages.\n",
      "random\n",
      "    Core Random Tools\n",
      "linalg\n",
      "    Core Linear Algebra Tools\n",
      "fft\n",
      "    Core FFT routines\n",
      "polynomial\n",
      "    Polynomial tools\n",
      "testing\n",
      "    NumPy testing tools\n",
      "distutils\n",
      "    Enhancements to distutils with support for\n",
      "    Fortran compilers support and more (for Python <= 3.11)\n",
      "\n",
      "Utilities\n",
      "---------\n",
      "test\n",
      "    Run numpy unittests\n",
      "show_config\n",
      "    Show numpy build configuration\n",
      "__version__\n",
      "    NumPy version string\n",
      "\n",
      "Viewing documentation using IPython\n",
      "-----------------------------------\n",
      "\n",
      "Start IPython and import `numpy` usually under the alias ``np``: `import\n",
      "numpy as np`.  Then, directly past or use the ``%cpaste`` magic to paste\n",
      "examples into the shell.  To see which functions are available in `numpy`,\n",
      "type ``np.<TAB>`` (where ``<TAB>`` refers to the TAB key), or use\n",
      "``np.*cos*?<ENTER>`` (where ``<ENTER>`` refers to the ENTER key) to narrow\n",
      "down the list.  To view the docstring for a function, use\n",
      "``np.cos?<ENTER>`` (to view the docstring) and ``np.cos??<ENTER>`` (to view\n",
      "the source code).\n",
      "\n",
      "Copies vs. in-place operation\n",
      "-----------------------------\n",
      "Most of the functions in `numpy` return a copy of the array argument\n",
      "(e.g., `np.sort`).  In-place versions of these functions are often\n",
      "available as array methods, i.e. ``x = np.array([1,2,3]); x.sort()``.\n",
      "Exceptions to this rule are documented.\n",
      "\n",
      "\n"
     ]
    }
   ],
   "source": [
    "print(np.__doc__)"
   ]
  },
  {
   "cell_type": "code",
   "execution_count": 6,
   "metadata": {
    "colab": {
     "base_uri": "https://localhost:8080/"
    },
    "executionInfo": {
     "elapsed": 470,
     "status": "ok",
     "timestamp": 1738822997572,
     "user": {
      "displayName": "Darshan D",
      "userId": "11054278787583435560"
     },
     "user_tz": -330
    },
    "id": "vsaTZKeT7FAd",
    "outputId": "feb80a19-c2e1-4b69-cedf-ff18bf5b8765"
   },
   "outputs": [
    {
     "data": {
      "text/plain": [
       "list"
      ]
     },
     "execution_count": 6,
     "metadata": {},
     "output_type": "execute_result"
    }
   ],
   "source": [
    "lis = [1,2,3,4,\"numpy_array\", 4+2j, True, 1.2]\n",
    "type(lis)"
   ]
  },
  {
   "cell_type": "code",
   "execution_count": 7,
   "metadata": {
    "executionInfo": {
     "elapsed": 522,
     "status": "ok",
     "timestamp": 1738823044623,
     "user": {
      "displayName": "Darshan D",
      "userId": "11054278787583435560"
     },
     "user_tz": -330
    },
    "id": "oySeVm4b7U4R"
   },
   "outputs": [],
   "source": [
    "# Numpy stored the data in a numpy array\n",
    "# An array is a container/data structure that is used to store data of same daya type(homogenous)"
   ]
  },
  {
   "cell_type": "code",
   "execution_count": 8,
   "metadata": {
    "executionInfo": {
     "elapsed": 469,
     "status": "ok",
     "timestamp": 1738823213849,
     "user": {
      "displayName": "Darshan D",
      "userId": "11054278787583435560"
     },
     "user_tz": -330
    },
    "id": "71cAIW5f7gj0"
   },
   "outputs": [],
   "source": [
    "#why numpy? already we have list\n",
    "# c is one of the fastest programming language\n",
    "# numpy is built using c >> Therefore, it is fast\n",
    "# due to array >> since, it stores only homogenous data, numpy array is faster\n",
    "# since it stores homogenous data >> continuous memory location\n",
    "# mathematical computation is fast"
   ]
  },
  {
   "cell_type": "code",
   "execution_count": 10,
   "metadata": {
    "executionInfo": {
     "elapsed": 514,
     "status": "ok",
     "timestamp": 1738823226272,
     "user": {
      "displayName": "Darshan D",
      "userId": "11054278787583435560"
     },
     "user_tz": -330
    },
    "id": "0SunCWMD794_"
   },
   "outputs": [],
   "source": [
    "l = [1, 2, 3, 4, 5]"
   ]
  },
  {
   "cell_type": "code",
   "execution_count": 12,
   "metadata": {
    "executionInfo": {
     "elapsed": 512,
     "status": "ok",
     "timestamp": 1738823247157,
     "user": {
      "displayName": "Darshan D",
      "userId": "11054278787583435560"
     },
     "user_tz": -330
    },
    "id": "WmtqnZDM8M6A"
   },
   "outputs": [],
   "source": [
    "nump_arr = np.array(l)"
   ]
  },
  {
   "cell_type": "code",
   "execution_count": 13,
   "metadata": {
    "colab": {
     "base_uri": "https://localhost:8080/"
    },
    "executionInfo": {
     "elapsed": 672,
     "status": "ok",
     "timestamp": 1738823256789,
     "user": {
      "displayName": "Darshan D",
      "userId": "11054278787583435560"
     },
     "user_tz": -330
    },
    "id": "FUpD7dPX8OuR",
    "outputId": "5fc96a54-3ba2-40ab-d32a-2f3dd8682291"
   },
   "outputs": [
    {
     "data": {
      "text/plain": [
       "numpy.ndarray"
      ]
     },
     "execution_count": 13,
     "metadata": {},
     "output_type": "execute_result"
    }
   ],
   "source": [
    "type(nump_arr)"
   ]
  },
  {
   "cell_type": "code",
   "execution_count": 14,
   "metadata": {
    "executionInfo": {
     "elapsed": 506,
     "status": "ok",
     "timestamp": 1738823278590,
     "user": {
      "displayName": "Darshan D",
      "userId": "11054278787583435560"
     },
     "user_tz": -330
    },
    "id": "XcgBAWZz8UUK"
   },
   "outputs": [],
   "source": [
    "# ndarray >> n-diamensional array"
   ]
  },
  {
   "cell_type": "code",
   "execution_count": 18,
   "metadata": {
    "executionInfo": {
     "elapsed": 883,
     "status": "ok",
     "timestamp": 1738823405200,
     "user": {
      "displayName": "Darshan D",
      "userId": "11054278787583435560"
     },
     "user_tz": -330
    },
    "id": "X7WZd6Nk8Zry"
   },
   "outputs": [],
   "source": [
    "l = [1,2,3,4,\"logitech\"]\n",
    "arr = np.array(l)"
   ]
  },
  {
   "cell_type": "code",
   "execution_count": 19,
   "metadata": {
    "executionInfo": {
     "elapsed": 6,
     "status": "ok",
     "timestamp": 1738823406089,
     "user": {
      "displayName": "Darshan D",
      "userId": "11054278787583435560"
     },
     "user_tz": -330
    },
    "id": "Q1MQ7bSv8id6"
   },
   "outputs": [],
   "source": [
    "# array stores homogenous data.\n",
    "# it converts the datatype of other datapoints to adjust."
   ]
  },
  {
   "cell_type": "code",
   "execution_count": 21,
   "metadata": {
    "colab": {
     "base_uri": "https://localhost:8080/"
    },
    "executionInfo": {
     "elapsed": 609,
     "status": "ok",
     "timestamp": 1738823414373,
     "user": {
      "displayName": "Darshan D",
      "userId": "11054278787583435560"
     },
     "user_tz": -330
    },
    "id": "jVdDe_9B816P",
    "outputId": "0e28e719-fac5-43c5-dbae-e245a70d88d3"
   },
   "outputs": [
    {
     "data": {
      "text/plain": [
       "numpy.ndarray"
      ]
     },
     "execution_count": 21,
     "metadata": {},
     "output_type": "execute_result"
    }
   ],
   "source": [
    "type(arr)"
   ]
  },
  {
   "cell_type": "code",
   "execution_count": 23,
   "metadata": {
    "colab": {
     "base_uri": "https://localhost:8080/"
    },
    "executionInfo": {
     "elapsed": 515,
     "status": "ok",
     "timestamp": 1738823462914,
     "user": {
      "displayName": "Darshan D",
      "userId": "11054278787583435560"
     },
     "user_tz": -330
    },
    "id": "3nJ8IV5C82h5",
    "outputId": "59a38a5b-60a7-46f5-a2b6-3b52302431b4"
   },
   "outputs": [
    {
     "data": {
      "text/plain": [
       "1"
      ]
     },
     "execution_count": 23,
     "metadata": {},
     "output_type": "execute_result"
    }
   ],
   "source": [
    "arr.ndim # to get the diamension of array"
   ]
  },
  {
   "cell_type": "code",
   "execution_count": 25,
   "metadata": {
    "executionInfo": {
     "elapsed": 507,
     "status": "ok",
     "timestamp": 1738823503968,
     "user": {
      "displayName": "Darshan D",
      "userId": "11054278787583435560"
     },
     "user_tz": -330
    },
    "id": "YOVGXWdj89FP"
   },
   "outputs": [],
   "source": [
    "arr1 = np.array([[1,2,3,4],[5,6,7,8]])"
   ]
  },
  {
   "cell_type": "code",
   "execution_count": 26,
   "metadata": {
    "colab": {
     "base_uri": "https://localhost:8080/"
    },
    "executionInfo": {
     "elapsed": 513,
     "status": "ok",
     "timestamp": 1738823511349,
     "user": {
      "displayName": "Darshan D",
      "userId": "11054278787583435560"
     },
     "user_tz": -330
    },
    "id": "CST6j81b9Mh7",
    "outputId": "5c90b7ab-640a-4f36-b5d0-2b4a4f73ab07"
   },
   "outputs": [
    {
     "data": {
      "text/plain": [
       "array([[1, 2, 3, 4],\n",
       "       [5, 6, 7, 8]])"
      ]
     },
     "execution_count": 26,
     "metadata": {},
     "output_type": "execute_result"
    }
   ],
   "source": [
    "arr1"
   ]
  },
  {
   "cell_type": "code",
   "execution_count": 27,
   "metadata": {
    "colab": {
     "base_uri": "https://localhost:8080/"
    },
    "executionInfo": {
     "elapsed": 495,
     "status": "ok",
     "timestamp": 1738823525157,
     "user": {
      "displayName": "Darshan D",
      "userId": "11054278787583435560"
     },
     "user_tz": -330
    },
    "id": "T5mMY4A49SRi",
    "outputId": "1e1eacfb-a0f8-4308-def0-a67a664efdc9"
   },
   "outputs": [
    {
     "data": {
      "text/plain": [
       "2"
      ]
     },
     "execution_count": 27,
     "metadata": {},
     "output_type": "execute_result"
    }
   ],
   "source": [
    "arr1.ndim"
   ]
  },
  {
   "cell_type": "code",
   "execution_count": 29,
   "metadata": {
    "executionInfo": {
     "elapsed": 601,
     "status": "ok",
     "timestamp": 1738823654190,
     "user": {
      "displayName": "Darshan D",
      "userId": "11054278787583435560"
     },
     "user_tz": -330
    },
    "id": "RMlAdKkh9V08"
   },
   "outputs": [],
   "source": [
    "mat = np.matrix([1,2,3,4]) #matrix is a specialised array of 2 diamensions"
   ]
  },
  {
   "cell_type": "code",
   "execution_count": 30,
   "metadata": {
    "colab": {
     "base_uri": "https://localhost:8080/"
    },
    "executionInfo": {
     "elapsed": 16,
     "status": "ok",
     "timestamp": 1738823659019,
     "user": {
      "displayName": "Darshan D",
      "userId": "11054278787583435560"
     },
     "user_tz": -330
    },
    "id": "HC7s47yr9z5U",
    "outputId": "5a4388c8-2f43-41eb-9aae-52d59ce16ed1"
   },
   "outputs": [
    {
     "data": {
      "text/plain": [
       "numpy.matrix"
      ]
     },
     "execution_count": 30,
     "metadata": {},
     "output_type": "execute_result"
    }
   ],
   "source": [
    "type(mat)"
   ]
  },
  {
   "cell_type": "code",
   "execution_count": 31,
   "metadata": {
    "colab": {
     "base_uri": "https://localhost:8080/"
    },
    "executionInfo": {
     "elapsed": 521,
     "status": "ok",
     "timestamp": 1738823667002,
     "user": {
      "displayName": "Darshan D",
      "userId": "11054278787583435560"
     },
     "user_tz": -330
    },
    "id": "pNMGc31F92bX",
    "outputId": "89956696-3f24-4ccd-e2fe-c8a91e7bc712"
   },
   "outputs": [
    {
     "data": {
      "text/plain": [
       "matrix([[1, 2, 3, 4]])"
      ]
     },
     "execution_count": 31,
     "metadata": {},
     "output_type": "execute_result"
    }
   ],
   "source": [
    "mat"
   ]
  },
  {
   "cell_type": "code",
   "execution_count": 32,
   "metadata": {
    "executionInfo": {
     "elapsed": 10,
     "status": "ok",
     "timestamp": 1738823726429,
     "user": {
      "displayName": "Darshan D",
      "userId": "11054278787583435560"
     },
     "user_tz": -330
    },
    "id": "eobWg98O94XN"
   },
   "outputs": [],
   "source": [
    "# to understand the dimension, see the no. of opening/closing square bracket"
   ]
  },
  {
   "cell_type": "code",
   "execution_count": 34,
   "metadata": {
    "colab": {
     "base_uri": "https://localhost:8080/",
     "height": 313
    },
    "executionInfo": {
     "elapsed": 520,
     "status": "error",
     "timestamp": 1738823780365,
     "user": {
      "displayName": "Darshan D",
      "userId": "11054278787583435560"
     },
     "user_tz": -330
    },
    "id": "Qz_dXO3D-HIN",
    "outputId": "4b043b0d-3f6e-4009-a10e-2a3b729f3a53"
   },
   "outputs": [
    {
     "ename": "ValueError",
     "evalue": "matrix must be 2-dimensional",
     "output_type": "error",
     "traceback": [
      "\u001b[0;31m---------------------------------------------------------------------------\u001b[0m",
      "\u001b[0;31mValueError\u001b[0m                                Traceback (most recent call last)",
      "\u001b[0;32m<ipython-input-34-31c802e15b68>\u001b[0m in \u001b[0;36m<cell line: 0>\u001b[0;34m()\u001b[0m\n\u001b[0;32m----> 1\u001b[0;31m \u001b[0mmat2\u001b[0m \u001b[0;34m=\u001b[0m \u001b[0mnp\u001b[0m\u001b[0;34m.\u001b[0m\u001b[0mmatrix\u001b[0m\u001b[0;34m(\u001b[0m\u001b[0;34m[\u001b[0m\u001b[0;34m[\u001b[0m\u001b[0;34m[\u001b[0m\u001b[0;36m1\u001b[0m\u001b[0;34m,\u001b[0m\u001b[0;36m2\u001b[0m\u001b[0;34m]\u001b[0m\u001b[0;34m,\u001b[0m\u001b[0;34m[\u001b[0m\u001b[0;36m2\u001b[0m\u001b[0;34m,\u001b[0m\u001b[0;36m3\u001b[0m\u001b[0;34m]\u001b[0m\u001b[0;34m,\u001b[0m\u001b[0;34m[\u001b[0m\u001b[0;36m3\u001b[0m\u001b[0;34m,\u001b[0m\u001b[0;36m4\u001b[0m\u001b[0;34m]\u001b[0m\u001b[0;34m]\u001b[0m\u001b[0;34m]\u001b[0m\u001b[0;34m)\u001b[0m\u001b[0;34m\u001b[0m\u001b[0;34m\u001b[0m\u001b[0m\n\u001b[0m",
      "\u001b[0;32m/usr/local/lib/python3.11/dist-packages/numpy/matrixlib/defmatrix.py\u001b[0m in \u001b[0;36m__new__\u001b[0;34m(subtype, data, dtype, copy)\u001b[0m\n\u001b[1;32m    148\u001b[0m         \u001b[0mshape\u001b[0m \u001b[0;34m=\u001b[0m \u001b[0marr\u001b[0m\u001b[0;34m.\u001b[0m\u001b[0mshape\u001b[0m\u001b[0;34m\u001b[0m\u001b[0;34m\u001b[0m\u001b[0m\n\u001b[1;32m    149\u001b[0m         \u001b[0;32mif\u001b[0m \u001b[0;34m(\u001b[0m\u001b[0mndim\u001b[0m \u001b[0;34m>\u001b[0m \u001b[0;36m2\u001b[0m\u001b[0;34m)\u001b[0m\u001b[0;34m:\u001b[0m\u001b[0;34m\u001b[0m\u001b[0;34m\u001b[0m\u001b[0m\n\u001b[0;32m--> 150\u001b[0;31m             \u001b[0;32mraise\u001b[0m \u001b[0mValueError\u001b[0m\u001b[0;34m(\u001b[0m\u001b[0;34m\"matrix must be 2-dimensional\"\u001b[0m\u001b[0;34m)\u001b[0m\u001b[0;34m\u001b[0m\u001b[0;34m\u001b[0m\u001b[0m\n\u001b[0m\u001b[1;32m    151\u001b[0m         \u001b[0;32melif\u001b[0m \u001b[0mndim\u001b[0m \u001b[0;34m==\u001b[0m \u001b[0;36m0\u001b[0m\u001b[0;34m:\u001b[0m\u001b[0;34m\u001b[0m\u001b[0;34m\u001b[0m\u001b[0m\n\u001b[1;32m    152\u001b[0m             \u001b[0mshape\u001b[0m \u001b[0;34m=\u001b[0m \u001b[0;34m(\u001b[0m\u001b[0;36m1\u001b[0m\u001b[0;34m,\u001b[0m \u001b[0;36m1\u001b[0m\u001b[0;34m)\u001b[0m\u001b[0;34m\u001b[0m\u001b[0;34m\u001b[0m\u001b[0m\n",
      "\u001b[0;31mValueError\u001b[0m: matrix must be 2-dimensional"
     ]
    }
   ],
   "source": [
    "mat2 = np.matrix([[[1,2],[2,3],[3,4]]])"
   ]
  },
  {
   "cell_type": "code",
   "execution_count": 38,
   "metadata": {
    "executionInfo": {
     "elapsed": 516,
     "status": "ok",
     "timestamp": 1738823933540,
     "user": {
      "displayName": "Darshan D",
      "userId": "11054278787583435560"
     },
     "user_tz": -330
    },
    "id": "UFmL6adj-Pqk"
   },
   "outputs": [],
   "source": [
    "arr3 = np.array([[[1,2],[2,3],[3,4]]])"
   ]
  },
  {
   "cell_type": "code",
   "execution_count": 39,
   "metadata": {
    "colab": {
     "base_uri": "https://localhost:8080/"
    },
    "executionInfo": {
     "elapsed": 508,
     "status": "ok",
     "timestamp": 1738823944596,
     "user": {
      "displayName": "Darshan D",
      "userId": "11054278787583435560"
     },
     "user_tz": -330
    },
    "id": "4RgyXiap-t37",
    "outputId": "f239654d-d5f2-4263-961d-61b8e11a1bda"
   },
   "outputs": [
    {
     "data": {
      "text/plain": [
       "array([[[1, 2],\n",
       "        [2, 3],\n",
       "        [3, 4]]])"
      ]
     },
     "execution_count": 39,
     "metadata": {},
     "output_type": "execute_result"
    }
   ],
   "source": [
    "arr3"
   ]
  },
  {
   "cell_type": "code",
   "execution_count": 40,
   "metadata": {
    "colab": {
     "base_uri": "https://localhost:8080/"
    },
    "executionInfo": {
     "elapsed": 4,
     "status": "ok",
     "timestamp": 1738823946507,
     "user": {
      "displayName": "Darshan D",
      "userId": "11054278787583435560"
     },
     "user_tz": -330
    },
    "id": "1GKgZVPe-unu",
    "outputId": "429a7cf9-0573-4f78-e8d6-dee5a13f5b8f"
   },
   "outputs": [
    {
     "data": {
      "text/plain": [
       "3"
      ]
     },
     "execution_count": 40,
     "metadata": {},
     "output_type": "execute_result"
    }
   ],
   "source": [
    "arr3.ndim"
   ]
  },
  {
   "cell_type": "code",
   "execution_count": 41,
   "metadata": {
    "colab": {
     "base_uri": "https://localhost:8080/"
    },
    "executionInfo": {
     "elapsed": 586,
     "status": "ok",
     "timestamp": 1738823969694,
     "user": {
      "displayName": "Darshan D",
      "userId": "11054278787583435560"
     },
     "user_tz": -330
    },
    "id": "MGyRvdwd-yMn",
    "outputId": "afd8550c-806a-4dd9-e530-f7f0238ebd8a"
   },
   "outputs": [
    {
     "data": {
      "text/plain": [
       "array([1, 2, 3])"
      ]
     },
     "execution_count": 41,
     "metadata": {},
     "output_type": "execute_result"
    }
   ],
   "source": [
    "# more ways to array\n",
    "l = [1,2,3]\n",
    "np.asarray(l) #initial function asarray to convert to an array, np.array cam after this method"
   ]
  },
  {
   "cell_type": "code",
   "execution_count": 42,
   "metadata": {
    "colab": {
     "base_uri": "https://localhost:8080/"
    },
    "executionInfo": {
     "elapsed": 497,
     "status": "ok",
     "timestamp": 1738824042800,
     "user": {
      "displayName": "Darshan D",
      "userId": "11054278787583435560"
     },
     "user_tz": -330
    },
    "id": "jNI8T6jA_CVN",
    "outputId": "6fbd0e89-2e6b-4a32-db76-2ed156eab149"
   },
   "outputs": [
    {
     "data": {
      "text/plain": [
       "array([1, 2, 3])"
      ]
     },
     "execution_count": 42,
     "metadata": {},
     "output_type": "execute_result"
    }
   ],
   "source": [
    "np.asanyarray(l)"
   ]
  },
  {
   "cell_type": "code",
   "execution_count": 43,
   "metadata": {
    "colab": {
     "base_uri": "https://localhost:8080/"
    },
    "executionInfo": {
     "elapsed": 706,
     "status": "ok",
     "timestamp": 1738824205728,
     "user": {
      "displayName": "Darshan D",
      "userId": "11054278787583435560"
     },
     "user_tz": -330
    },
    "id": "CQFnVC8R_UQy",
    "outputId": "a1d88530-eaa3-46a1-9757-a71de7e5c5c5"
   },
   "outputs": [
    {
     "data": {
      "text/plain": [
       "matrix([[1, 2, 3, 4]])"
      ]
     },
     "execution_count": 43,
     "metadata": {},
     "output_type": "execute_result"
    }
   ],
   "source": [
    "mat"
   ]
  },
  {
   "cell_type": "code",
   "execution_count": 45,
   "metadata": {
    "colab": {
     "base_uri": "https://localhost:8080/"
    },
    "executionInfo": {
     "elapsed": 526,
     "status": "ok",
     "timestamp": 1738824227847,
     "user": {
      "displayName": "Darshan D",
      "userId": "11054278787583435560"
     },
     "user_tz": -330
    },
    "id": "8sR07ONq_70C",
    "outputId": "5825f41d-8898-4be1-a3e2-a611159cfaef"
   },
   "outputs": [
    {
     "data": {
      "text/plain": [
       "matrix([[1, 2, 3, 4]])"
      ]
     },
     "execution_count": 45,
     "metadata": {},
     "output_type": "execute_result"
    }
   ],
   "source": [
    "np.asanyarray(mat)"
   ]
  },
  {
   "cell_type": "code",
   "execution_count": 46,
   "metadata": {
    "colab": {
     "base_uri": "https://localhost:8080/"
    },
    "executionInfo": {
     "elapsed": 514,
     "status": "ok",
     "timestamp": 1738824261022,
     "user": {
      "displayName": "Darshan D",
      "userId": "11054278787583435560"
     },
     "user_tz": -330
    },
    "id": "468NAXU2_90D",
    "outputId": "eb8a3581-fede-4177-e963-e9b5443bc93c"
   },
   "outputs": [
    {
     "data": {
      "text/plain": [
       "tuple"
      ]
     },
     "execution_count": 46,
     "metadata": {},
     "output_type": "execute_result"
    }
   ],
   "source": [
    "t = ([1,2,3],[4,5,6])\n",
    "type(t)"
   ]
  },
  {
   "cell_type": "code",
   "execution_count": 49,
   "metadata": {
    "executionInfo": {
     "elapsed": 499,
     "status": "ok",
     "timestamp": 1738824287333,
     "user": {
      "displayName": "Darshan D",
      "userId": "11054278787583435560"
     },
     "user_tz": -330
    },
    "id": "mku0cPiwAJL7"
   },
   "outputs": [],
   "source": [
    "tup_np_arr = np.array(t)"
   ]
  },
  {
   "cell_type": "code",
   "execution_count": 50,
   "metadata": {
    "colab": {
     "base_uri": "https://localhost:8080/"
    },
    "executionInfo": {
     "elapsed": 565,
     "status": "ok",
     "timestamp": 1738824302593,
     "user": {
      "displayName": "Darshan D",
      "userId": "11054278787583435560"
     },
     "user_tz": -330
    },
    "id": "8PWYVSqDAK6p",
    "outputId": "c38980f7-1ee5-4e63-9856-4e2ca046ceb7"
   },
   "outputs": [
    {
     "data": {
      "text/plain": [
       "array([[1, 2, 3],\n",
       "       [4, 5, 6]])"
      ]
     },
     "execution_count": 50,
     "metadata": {},
     "output_type": "execute_result"
    }
   ],
   "source": [
    "tup_np_arr"
   ]
  },
  {
   "cell_type": "code",
   "execution_count": 51,
   "metadata": {
    "colab": {
     "base_uri": "https://localhost:8080/"
    },
    "executionInfo": {
     "elapsed": 526,
     "status": "ok",
     "timestamp": 1738824339464,
     "user": {
      "displayName": "Darshan D",
      "userId": "11054278787583435560"
     },
     "user_tz": -330
    },
    "id": "leHarQg7AMNw",
    "outputId": "b0b34618-e67e-4106-d511-b8fe08abd6a3"
   },
   "outputs": [
    {
     "data": {
      "text/plain": [
       "array(['1', '2', '3', '4', 'logitech'], dtype='<U21')"
      ]
     },
     "execution_count": 51,
     "metadata": {},
     "output_type": "execute_result"
    }
   ],
   "source": [
    "arr"
   ]
  },
  {
   "cell_type": "code",
   "execution_count": 52,
   "metadata": {
    "colab": {
     "base_uri": "https://localhost:8080/",
     "height": 39
    },
    "executionInfo": {
     "elapsed": 616,
     "status": "ok",
     "timestamp": 1738824346630,
     "user": {
      "displayName": "Darshan D",
      "userId": "11054278787583435560"
     },
     "user_tz": -330
    },
    "id": "bXjWL83HAcl7",
    "outputId": "433fceb2-a643-4133-c231-7a1013f48b54"
   },
   "outputs": [
    {
     "data": {
      "application/vnd.google.colaboratory.intrinsic+json": {
       "type": "string"
      },
      "text/plain": [
       "'1'"
      ]
     },
     "execution_count": 52,
     "metadata": {},
     "output_type": "execute_result"
    }
   ],
   "source": [
    "arr[0]"
   ]
  },
  {
   "cell_type": "code",
   "execution_count": 53,
   "metadata": {
    "executionInfo": {
     "elapsed": 11,
     "status": "ok",
     "timestamp": 1738824356671,
     "user": {
      "displayName": "Darshan D",
      "userId": "11054278787583435560"
     },
     "user_tz": -330
    },
    "id": "xhPMfQr0Aebf"
   },
   "outputs": [],
   "source": [
    "#array is mutable\n",
    "arr[0] = 192"
   ]
  },
  {
   "cell_type": "code",
   "execution_count": 54,
   "metadata": {
    "colab": {
     "base_uri": "https://localhost:8080/"
    },
    "executionInfo": {
     "elapsed": 554,
     "status": "ok",
     "timestamp": 1738824360761,
     "user": {
      "displayName": "Darshan D",
      "userId": "11054278787583435560"
     },
     "user_tz": -330
    },
    "id": "0PmvqAXcAg6B",
    "outputId": "cdada7a3-00c2-484c-97fa-de6165085ab7"
   },
   "outputs": [
    {
     "data": {
      "text/plain": [
       "array(['192', '2', '3', '4', 'logitech'], dtype='<U21')"
      ]
     },
     "execution_count": 54,
     "metadata": {},
     "output_type": "execute_result"
    }
   ],
   "source": [
    "arr"
   ]
  },
  {
   "cell_type": "code",
   "execution_count": 55,
   "metadata": {
    "executionInfo": {
     "elapsed": 803,
     "status": "ok",
     "timestamp": 1738824393938,
     "user": {
      "displayName": "Darshan D",
      "userId": "11054278787583435560"
     },
     "user_tz": -330
    },
    "id": "IYYHOL5iAh2H"
   },
   "outputs": [],
   "source": [
    "a = arr # a and arr will point to same memory location, so if there is change in a or arr, it will reflect on both"
   ]
  },
  {
   "cell_type": "code",
   "execution_count": 56,
   "metadata": {
    "colab": {
     "base_uri": "https://localhost:8080/"
    },
    "executionInfo": {
     "elapsed": 723,
     "status": "ok",
     "timestamp": 1738824397925,
     "user": {
      "displayName": "Darshan D",
      "userId": "11054278787583435560"
     },
     "user_tz": -330
    },
    "id": "TeDJtAcZApvv",
    "outputId": "74c2e814-579e-49ee-9807-a0fecf2e3435"
   },
   "outputs": [
    {
     "data": {
      "text/plain": [
       "array(['192', '2', '3', '4', 'logitech'], dtype='<U21')"
      ]
     },
     "execution_count": 56,
     "metadata": {},
     "output_type": "execute_result"
    }
   ],
   "source": [
    "a"
   ]
  },
  {
   "cell_type": "code",
   "execution_count": 57,
   "metadata": {
    "colab": {
     "base_uri": "https://localhost:8080/"
    },
    "executionInfo": {
     "elapsed": 518,
     "status": "ok",
     "timestamp": 1738824401108,
     "user": {
      "displayName": "Darshan D",
      "userId": "11054278787583435560"
     },
     "user_tz": -330
    },
    "id": "Vrp01ZGUAqv-",
    "outputId": "de5749b5-f288-4928-ae93-d70a3bb84f8d"
   },
   "outputs": [
    {
     "data": {
      "text/plain": [
       "array(['192', '2', '3', '4', 'logitech'], dtype='<U21')"
      ]
     },
     "execution_count": 57,
     "metadata": {},
     "output_type": "execute_result"
    }
   ],
   "source": [
    "arr"
   ]
  },
  {
   "cell_type": "code",
   "execution_count": 58,
   "metadata": {
    "executionInfo": {
     "elapsed": 513,
     "status": "ok",
     "timestamp": 1738824431516,
     "user": {
      "displayName": "Darshan D",
      "userId": "11054278787583435560"
     },
     "user_tz": -330
    },
    "id": "4NiWFYAKArfI"
   },
   "outputs": [],
   "source": [
    "# shallow copy >> change in one array will lead to change in another array\n",
    "a[2] = 342"
   ]
  },
  {
   "cell_type": "code",
   "execution_count": 59,
   "metadata": {
    "colab": {
     "base_uri": "https://localhost:8080/"
    },
    "executionInfo": {
     "elapsed": 619,
     "status": "ok",
     "timestamp": 1738824435816,
     "user": {
      "displayName": "Darshan D",
      "userId": "11054278787583435560"
     },
     "user_tz": -330
    },
    "id": "RmBu9xP2AzLB",
    "outputId": "eb625ce8-5270-4649-e7e9-45e509caafa3"
   },
   "outputs": [
    {
     "data": {
      "text/plain": [
       "array(['192', '2', '342', '4', 'logitech'], dtype='<U21')"
      ]
     },
     "execution_count": 59,
     "metadata": {},
     "output_type": "execute_result"
    }
   ],
   "source": [
    "a"
   ]
  },
  {
   "cell_type": "code",
   "execution_count": 60,
   "metadata": {
    "colab": {
     "base_uri": "https://localhost:8080/"
    },
    "executionInfo": {
     "elapsed": 12,
     "status": "ok",
     "timestamp": 1738824437363,
     "user": {
      "displayName": "Darshan D",
      "userId": "11054278787583435560"
     },
     "user_tz": -330
    },
    "id": "kd8TL9f6Aztx",
    "outputId": "5db16376-7109-4f50-85cc-eb3f148ce6ee"
   },
   "outputs": [
    {
     "data": {
      "text/plain": [
       "array(['192', '2', '342', '4', 'logitech'], dtype='<U21')"
      ]
     },
     "execution_count": 60,
     "metadata": {},
     "output_type": "execute_result"
    }
   ],
   "source": [
    "arr"
   ]
  },
  {
   "cell_type": "code",
   "execution_count": 61,
   "metadata": {
    "executionInfo": {
     "elapsed": 504,
     "status": "ok",
     "timestamp": 1738824460598,
     "user": {
      "displayName": "Darshan D",
      "userId": "11054278787583435560"
     },
     "user_tz": -330
    },
    "id": "RG-bDHImA0p8"
   },
   "outputs": [],
   "source": [
    "b = arr.copy() # deep copy >> both are independent from each other"
   ]
  },
  {
   "cell_type": "code",
   "execution_count": 62,
   "metadata": {
    "colab": {
     "base_uri": "https://localhost:8080/"
    },
    "executionInfo": {
     "elapsed": 729,
     "status": "ok",
     "timestamp": 1738824463929,
     "user": {
      "displayName": "Darshan D",
      "userId": "11054278787583435560"
     },
     "user_tz": -330
    },
    "id": "jB7mSak0A6PV",
    "outputId": "8779977f-353b-4971-ad5a-9f517a6a149b"
   },
   "outputs": [
    {
     "data": {
      "text/plain": [
       "array(['192', '2', '342', '4', 'logitech'], dtype='<U21')"
      ]
     },
     "execution_count": 62,
     "metadata": {},
     "output_type": "execute_result"
    }
   ],
   "source": [
    "b"
   ]
  },
  {
   "cell_type": "code",
   "execution_count": 63,
   "metadata": {
    "colab": {
     "base_uri": "https://localhost:8080/"
    },
    "executionInfo": {
     "elapsed": 13,
     "status": "ok",
     "timestamp": 1738824465575,
     "user": {
      "displayName": "Darshan D",
      "userId": "11054278787583435560"
     },
     "user_tz": -330
    },
    "id": "3hbny43-A6w2",
    "outputId": "ebc19713-32b7-430d-dfb9-67a3fee0519d"
   },
   "outputs": [
    {
     "data": {
      "text/plain": [
       "array(['192', '2', '342', '4', 'logitech'], dtype='<U21')"
      ]
     },
     "execution_count": 63,
     "metadata": {},
     "output_type": "execute_result"
    }
   ],
   "source": [
    "arr"
   ]
  },
  {
   "cell_type": "code",
   "execution_count": 64,
   "metadata": {
    "executionInfo": {
     "elapsed": 505,
     "status": "ok",
     "timestamp": 1738824472984,
     "user": {
      "displayName": "Darshan D",
      "userId": "11054278787583435560"
     },
     "user_tz": -330
    },
    "id": "II2sIxicA7fP"
   },
   "outputs": [],
   "source": [
    "b[2] = 3"
   ]
  },
  {
   "cell_type": "code",
   "execution_count": 65,
   "metadata": {
    "colab": {
     "base_uri": "https://localhost:8080/"
    },
    "executionInfo": {
     "elapsed": 821,
     "status": "ok",
     "timestamp": 1738824476264,
     "user": {
      "displayName": "Darshan D",
      "userId": "11054278787583435560"
     },
     "user_tz": -330
    },
    "id": "Cld5o3EHA9Rv",
    "outputId": "739d4cc4-a9fe-461a-a3a7-697bc3973d81"
   },
   "outputs": [
    {
     "data": {
      "text/plain": [
       "array(['192', '2', '3', '4', 'logitech'], dtype='<U21')"
      ]
     },
     "execution_count": 65,
     "metadata": {},
     "output_type": "execute_result"
    }
   ],
   "source": [
    "b"
   ]
  },
  {
   "cell_type": "code",
   "execution_count": 66,
   "metadata": {
    "colab": {
     "base_uri": "https://localhost:8080/"
    },
    "executionInfo": {
     "elapsed": 515,
     "status": "ok",
     "timestamp": 1738824479547,
     "user": {
      "displayName": "Darshan D",
      "userId": "11054278787583435560"
     },
     "user_tz": -330
    },
    "id": "Q5bq67s1A-Aq",
    "outputId": "2cf022a2-1a80-4ad6-cd92-f0b610971b9f"
   },
   "outputs": [
    {
     "data": {
      "text/plain": [
       "array(['192', '2', '342', '4', 'logitech'], dtype='<U21')"
      ]
     },
     "execution_count": 66,
     "metadata": {},
     "output_type": "execute_result"
    }
   ],
   "source": [
    "arr"
   ]
  },
  {
   "cell_type": "code",
   "execution_count": null,
   "metadata": {
    "id": "cJfqjPVxA-qL"
   },
   "outputs": [],
   "source": [
    "# to create an array\n",
    "# >> np.array\n",
    "# >> np.asarray\n",
    "# >> np.asanyarray"
   ]
  },
  {
   "cell_type": "code",
   "execution_count": 67,
   "metadata": {
    "executionInfo": {
     "elapsed": 1608,
     "status": "ok",
     "timestamp": 1738824536140,
     "user": {
      "displayName": "Darshan D",
      "userId": "11054278787583435560"
     },
     "user_tz": -330
    },
    "id": "OJ9fE5dYBJTW"
   },
   "outputs": [],
   "source": [
    "# multiple approaches to generate any array"
   ]
  },
  {
   "cell_type": "code",
   "execution_count": 69,
   "metadata": {
    "executionInfo": {
     "elapsed": 9,
     "status": "ok",
     "timestamp": 1738824721738,
     "user": {
      "displayName": "Darshan D",
      "userId": "11054278787583435560"
     },
     "user_tz": -330
    },
    "id": "tw9hX0gsBMCp"
   },
   "outputs": [],
   "source": [
    "arr1 = np.fromfunction(lambda i, j: i==j, (3,3)) # construct an array by executing a function over each coordinate"
   ]
  },
  {
   "cell_type": "code",
   "execution_count": 70,
   "metadata": {
    "colab": {
     "base_uri": "https://localhost:8080/"
    },
    "executionInfo": {
     "elapsed": 807,
     "status": "ok",
     "timestamp": 1738824730434,
     "user": {
      "displayName": "Darshan D",
      "userId": "11054278787583435560"
     },
     "user_tz": -330
    },
    "id": "rksbd9GHBWxJ",
    "outputId": "d76fb53c-9b11-4de1-800e-867066930350"
   },
   "outputs": [
    {
     "data": {
      "text/plain": [
       "2"
      ]
     },
     "execution_count": 70,
     "metadata": {},
     "output_type": "execute_result"
    }
   ],
   "source": [
    "arr1.ndim"
   ]
  },
  {
   "cell_type": "code",
   "execution_count": 71,
   "metadata": {
    "colab": {
     "base_uri": "https://localhost:8080/"
    },
    "executionInfo": {
     "elapsed": 481,
     "status": "ok",
     "timestamp": 1738824738285,
     "user": {
      "displayName": "Darshan D",
      "userId": "11054278787583435560"
     },
     "user_tz": -330
    },
    "id": "2mPOFtrkB8BX",
    "outputId": "6a491027-5ee2-4d8a-f552-7322f157c881"
   },
   "outputs": [
    {
     "data": {
      "text/plain": [
       "(3, 3)"
      ]
     },
     "execution_count": 71,
     "metadata": {},
     "output_type": "execute_result"
    }
   ],
   "source": [
    "arr1.shape # shape of array"
   ]
  },
  {
   "cell_type": "code",
   "execution_count": 72,
   "metadata": {
    "colab": {
     "base_uri": "https://localhost:8080/"
    },
    "executionInfo": {
     "elapsed": 603,
     "status": "ok",
     "timestamp": 1738824750501,
     "user": {
      "displayName": "Darshan D",
      "userId": "11054278787583435560"
     },
     "user_tz": -330
    },
    "id": "HKnOsspAB9_s",
    "outputId": "68579c86-72e4-4233-c87f-bb465f6b396b"
   },
   "outputs": [
    {
     "data": {
      "text/plain": [
       "9"
      ]
     },
     "execution_count": 72,
     "metadata": {},
     "output_type": "execute_result"
    }
   ],
   "source": [
    "arr1.size # no. of elements in array"
   ]
  },
  {
   "cell_type": "code",
   "execution_count": 74,
   "metadata": {
    "executionInfo": {
     "elapsed": 509,
     "status": "ok",
     "timestamp": 1738824947312,
     "user": {
      "displayName": "Darshan D",
      "userId": "11054278787583435560"
     },
     "user_tz": -330
    },
    "id": "tXwv9xi9CA99"
   },
   "outputs": [],
   "source": [
    "arr2 = np.fromfunction(lambda i,j : i*j, (3,3))"
   ]
  },
  {
   "cell_type": "code",
   "execution_count": 75,
   "metadata": {
    "colab": {
     "base_uri": "https://localhost:8080/"
    },
    "executionInfo": {
     "elapsed": 546,
     "status": "ok",
     "timestamp": 1738824954207,
     "user": {
      "displayName": "Darshan D",
      "userId": "11054278787583435560"
     },
     "user_tz": -330
    },
    "id": "m8f3JXaSCuBi",
    "outputId": "d9a52807-2161-4c2c-888a-f24b81f4ce33"
   },
   "outputs": [
    {
     "data": {
      "text/plain": [
       "2"
      ]
     },
     "execution_count": 75,
     "metadata": {},
     "output_type": "execute_result"
    }
   ],
   "source": [
    "arr2.ndim"
   ]
  },
  {
   "cell_type": "code",
   "execution_count": 76,
   "metadata": {
    "colab": {
     "base_uri": "https://localhost:8080/"
    },
    "executionInfo": {
     "elapsed": 727,
     "status": "ok",
     "timestamp": 1738824958780,
     "user": {
      "displayName": "Darshan D",
      "userId": "11054278787583435560"
     },
     "user_tz": -330
    },
    "id": "TBXMWzP5Cylw",
    "outputId": "40bf5f59-d5d8-4259-f336-283241ce1520"
   },
   "outputs": [
    {
     "data": {
      "text/plain": [
       "(3, 3)"
      ]
     },
     "execution_count": 76,
     "metadata": {},
     "output_type": "execute_result"
    }
   ],
   "source": [
    "arr2.shape"
   ]
  },
  {
   "cell_type": "code",
   "execution_count": 77,
   "metadata": {
    "colab": {
     "base_uri": "https://localhost:8080/"
    },
    "executionInfo": {
     "elapsed": 720,
     "status": "ok",
     "timestamp": 1738824962475,
     "user": {
      "displayName": "Darshan D",
      "userId": "11054278787583435560"
     },
     "user_tz": -330
    },
    "id": "-QDDPSSgCzke",
    "outputId": "a59cc824-6c06-4358-c202-fbad2bf521e1"
   },
   "outputs": [
    {
     "data": {
      "text/plain": [
       "9"
      ]
     },
     "execution_count": 77,
     "metadata": {},
     "output_type": "execute_result"
    }
   ],
   "source": [
    "arr2.size"
   ]
  },
  {
   "cell_type": "code",
   "execution_count": 78,
   "metadata": {
    "colab": {
     "base_uri": "https://localhost:8080/"
    },
    "executionInfo": {
     "elapsed": 575,
     "status": "ok",
     "timestamp": 1738824974961,
     "user": {
      "displayName": "Darshan D",
      "userId": "11054278787583435560"
     },
     "user_tz": -330
    },
    "id": "JjCU3tfHC0Zn",
    "outputId": "94a79889-0bdb-42d9-efaa-8f796f1ab2fb"
   },
   "outputs": [
    {
     "name": "stdout",
     "output_type": "stream",
     "text": [
      "0\n",
      "1\n",
      "2\n",
      "3\n",
      "4\n"
     ]
    }
   ],
   "source": [
    "for i in range(5):\n",
    "  print(i)"
   ]
  },
  {
   "cell_type": "code",
   "execution_count": 79,
   "metadata": {
    "colab": {
     "base_uri": "https://localhost:8080/"
    },
    "executionInfo": {
     "elapsed": 607,
     "status": "ok",
     "timestamp": 1738824988890,
     "user": {
      "displayName": "Darshan D",
      "userId": "11054278787583435560"
     },
     "user_tz": -330
    },
    "id": "PnPsrkoHC3zC",
    "outputId": "20e3cd74-007e-44a7-ebeb-18a2a9e76259"
   },
   "outputs": [
    {
     "data": {
      "text/plain": [
       "[0, 1, 2, 3, 4]"
      ]
     },
     "execution_count": 79,
     "metadata": {},
     "output_type": "execute_result"
    }
   ],
   "source": [
    "[i for i in range(5)]"
   ]
  },
  {
   "cell_type": "code",
   "execution_count": 80,
   "metadata": {
    "colab": {
     "base_uri": "https://localhost:8080/"
    },
    "executionInfo": {
     "elapsed": 11,
     "status": "ok",
     "timestamp": 1738825012556,
     "user": {
      "displayName": "Darshan D",
      "userId": "11054278787583435560"
     },
     "user_tz": -330
    },
    "id": "kkNodBHgC61V",
    "outputId": "735a38e5-21bd-43e9-97d8-55dca510fad2"
   },
   "outputs": [
    {
     "data": {
      "text/plain": [
       "<generator object <genexpr> at 0x79832d706cf0>"
      ]
     },
     "execution_count": 80,
     "metadata": {},
     "output_type": "execute_result"
    }
   ],
   "source": [
    "(i for i in range(5))"
   ]
  },
  {
   "cell_type": "code",
   "execution_count": 81,
   "metadata": {
    "colab": {
     "base_uri": "https://localhost:8080/"
    },
    "executionInfo": {
     "elapsed": 601,
     "status": "ok",
     "timestamp": 1738825024420,
     "user": {
      "displayName": "Darshan D",
      "userId": "11054278787583435560"
     },
     "user_tz": -330
    },
    "id": "SJwEhfpKDBHn",
    "outputId": "2768f11c-7180-42cb-d439-406889f7bbb3"
   },
   "outputs": [
    {
     "data": {
      "text/plain": [
       "[0, 1, 2, 3, 4]"
      ]
     },
     "execution_count": 81,
     "metadata": {},
     "output_type": "execute_result"
    }
   ],
   "source": [
    "list((i for i in range(5)))"
   ]
  },
  {
   "cell_type": "code",
   "execution_count": 82,
   "metadata": {
    "executionInfo": {
     "elapsed": 4,
     "status": "ok",
     "timestamp": 1738825065971,
     "user": {
      "displayName": "Darshan D",
      "userId": "11054278787583435560"
     },
     "user_tz": -330
    },
    "id": "ev0yWjE8DDkl"
   },
   "outputs": [],
   "source": [
    "iterator = (i for i in range(5))"
   ]
  },
  {
   "cell_type": "code",
   "execution_count": 83,
   "metadata": {
    "colab": {
     "base_uri": "https://localhost:8080/"
    },
    "executionInfo": {
     "elapsed": 10,
     "status": "ok",
     "timestamp": 1738825067747,
     "user": {
      "displayName": "Darshan D",
      "userId": "11054278787583435560"
     },
     "user_tz": -330
    },
    "id": "x6gMrvj0DN7N",
    "outputId": "d6274253-cca1-4a88-8531-c2549b8cf158"
   },
   "outputs": [
    {
     "data": {
      "text/plain": [
       "<generator object <genexpr> at 0x79832d411220>"
      ]
     },
     "execution_count": 83,
     "metadata": {},
     "output_type": "execute_result"
    }
   ],
   "source": [
    "iterator"
   ]
  },
  {
   "cell_type": "code",
   "execution_count": 84,
   "metadata": {
    "colab": {
     "base_uri": "https://localhost:8080/"
    },
    "executionInfo": {
     "elapsed": 621,
     "status": "ok",
     "timestamp": 1738825098459,
     "user": {
      "displayName": "Darshan D",
      "userId": "11054278787583435560"
     },
     "user_tz": -330
    },
    "id": "ix4OtaMcDOUc",
    "outputId": "d0cd3c7c-5471-4b94-ca42-af2a0f8bbbe8"
   },
   "outputs": [
    {
     "data": {
      "text/plain": [
       "array([0, 1, 2, 3, 4])"
      ]
     },
     "execution_count": 84,
     "metadata": {},
     "output_type": "execute_result"
    }
   ],
   "source": [
    "np.fromiter(iterator, int) # crate a new 1D array from an iterable object"
   ]
  },
  {
   "cell_type": "code",
   "execution_count": 85,
   "metadata": {
    "colab": {
     "base_uri": "https://localhost:8080/"
    },
    "executionInfo": {
     "elapsed": 526,
     "status": "ok",
     "timestamp": 1738825117709,
     "user": {
      "displayName": "Darshan D",
      "userId": "11054278787583435560"
     },
     "user_tz": -330
    },
    "id": "3UD6vf6jDVwe",
    "outputId": "a9f0b214-1eb7-4efd-9019-65892c71784d"
   },
   "outputs": [
    {
     "data": {
      "text/plain": [
       "array([22., 33., 24.])"
      ]
     },
     "execution_count": 85,
     "metadata": {},
     "output_type": "execute_result"
    }
   ],
   "source": [
    "np.fromstring(\"22 33 24\", sep = \" \")"
   ]
  },
  {
   "cell_type": "code",
   "execution_count": 87,
   "metadata": {
    "colab": {
     "base_uri": "https://localhost:8080/"
    },
    "executionInfo": {
     "elapsed": 556,
     "status": "ok",
     "timestamp": 1738825181098,
     "user": {
      "displayName": "Darshan D",
      "userId": "11054278787583435560"
     },
     "user_tz": -330
    },
    "id": "Y_CQCWT7Dasm",
    "outputId": "cf827f5c-011d-4ae9-c54a-ad9f2abef377"
   },
   "outputs": [
    {
     "data": {
      "text/plain": [
       "array([22, 33, 24])"
      ]
     },
     "execution_count": 87,
     "metadata": {},
     "output_type": "execute_result"
    }
   ],
   "source": [
    "np.fromstring(\"22 33 24\", sep = \" \", dtype=int) #by default, it is float"
   ]
  },
  {
   "cell_type": "code",
   "execution_count": 88,
   "metadata": {
    "colab": {
     "base_uri": "https://localhost:8080/"
    },
    "executionInfo": {
     "elapsed": 756,
     "status": "ok",
     "timestamp": 1738825233103,
     "user": {
      "displayName": "Darshan D",
      "userId": "11054278787583435560"
     },
     "user_tz": -330
    },
    "id": "UpxUBFMvDm5v",
    "outputId": "e258dc7b-a54c-4ab9-866c-762ec7ff25db"
   },
   "outputs": [
    {
     "data": {
      "text/plain": [
       "['Ajay', ' Bijay', ' Sanjay']"
      ]
     },
     "execution_count": 88,
     "metadata": {},
     "output_type": "execute_result"
    }
   ],
   "source": [
    "# for string character, you have to use split\n",
    "string = \"Ajay, Bijay, Sanjay\"\n",
    "string.split(\",\")"
   ]
  },
  {
   "cell_type": "code",
   "execution_count": 89,
   "metadata": {
    "colab": {
     "base_uri": "https://localhost:8080/"
    },
    "executionInfo": {
     "elapsed": 507,
     "status": "ok",
     "timestamp": 1738825243656,
     "user": {
      "displayName": "Darshan D",
      "userId": "11054278787583435560"
     },
     "user_tz": -330
    },
    "id": "GVA9axHwD2wz",
    "outputId": "6d40f5bb-2419-424f-bb38-3bb012c99cce"
   },
   "outputs": [
    {
     "data": {
      "text/plain": [
       "array(['Ajay', ' Bijay', ' Sanjay'], dtype='<U7')"
      ]
     },
     "execution_count": 89,
     "metadata": {},
     "output_type": "execute_result"
    }
   ],
   "source": [
    "np.array(string.split(\",\"))"
   ]
  },
  {
   "cell_type": "code",
   "execution_count": 90,
   "metadata": {
    "colab": {
     "base_uri": "https://localhost:8080/"
    },
    "executionInfo": {
     "elapsed": 13,
     "status": "ok",
     "timestamp": 1738825249810,
     "user": {
      "displayName": "Darshan D",
      "userId": "11054278787583435560"
     },
     "user_tz": -330
    },
    "id": "-zPbkOvWD5bG",
    "outputId": "c8ba763e-7497-4904-8320-bce0d5ffb2fc"
   },
   "outputs": [
    {
     "data": {
      "text/plain": [
       "[0, 1, 2, 3, 4, 5, 6, 7, 8, 9]"
      ]
     },
     "execution_count": 90,
     "metadata": {},
     "output_type": "execute_result"
    }
   ],
   "source": [
    "list(range(10))"
   ]
  },
  {
   "cell_type": "code",
   "execution_count": 92,
   "metadata": {
    "colab": {
     "base_uri": "https://localhost:8080/"
    },
    "executionInfo": {
     "elapsed": 718,
     "status": "ok",
     "timestamp": 1738825311345,
     "user": {
      "displayName": "Darshan D",
      "userId": "11054278787583435560"
     },
     "user_tz": -330
    },
    "id": "HDOLKu6ID6tP",
    "outputId": "e2d60659-975c-4714-d9e1-17331372efc9"
   },
   "outputs": [
    {
     "data": {
      "text/plain": [
       "array([1, 2, 3, 4, 5, 6, 7, 8, 9])"
      ]
     },
     "execution_count": 92,
     "metadata": {},
     "output_type": "execute_result"
    }
   ],
   "source": [
    "# other method of numpy >> to generate a sequeunce of number\n",
    "np.arange(1,10) # arange returns evenly spaced values within a given interval)"
   ]
  },
  {
   "cell_type": "code",
   "execution_count": 93,
   "metadata": {
    "colab": {
     "base_uri": "https://localhost:8080/"
    },
    "executionInfo": {
     "elapsed": 521,
     "status": "ok",
     "timestamp": 1738825319738,
     "user": {
      "displayName": "Darshan D",
      "userId": "11054278787583435560"
     },
     "user_tz": -330
    },
    "id": "x_oKr_iLD_4A",
    "outputId": "bee017d9-5d79-445a-fd30-561dae2fcf11"
   },
   "outputs": [
    {
     "data": {
      "text/plain": [
       "array([1. , 1.1, 1.2, 1.3, 1.4, 1.5, 1.6, 1.7, 1.8, 1.9, 2. , 2.1, 2.2,\n",
       "       2.3, 2.4, 2.5, 2.6, 2.7, 2.8, 2.9, 3. , 3.1, 3.2, 3.3, 3.4, 3.5,\n",
       "       3.6, 3.7, 3.8, 3.9, 4. , 4.1, 4.2, 4.3, 4.4, 4.5, 4.6, 4.7, 4.8,\n",
       "       4.9, 5. , 5.1, 5.2, 5.3, 5.4, 5.5, 5.6, 5.7, 5.8, 5.9, 6. , 6.1,\n",
       "       6.2, 6.3, 6.4, 6.5, 6.6, 6.7, 6.8, 6.9, 7. , 7.1, 7.2, 7.3, 7.4,\n",
       "       7.5, 7.6, 7.7, 7.8, 7.9, 8. , 8.1, 8.2, 8.3, 8.4, 8.5, 8.6, 8.7,\n",
       "       8.8, 8.9, 9. , 9.1, 9.2, 9.3, 9.4, 9.5, 9.6, 9.7, 9.8, 9.9])"
      ]
     },
     "execution_count": 93,
     "metadata": {},
     "output_type": "execute_result"
    }
   ],
   "source": [
    "np.arange(1,10,0.1)"
   ]
  },
  {
   "cell_type": "code",
   "execution_count": 94,
   "metadata": {
    "colab": {
     "base_uri": "https://localhost:8080/"
    },
    "executionInfo": {
     "elapsed": 717,
     "status": "ok",
     "timestamp": 1738825346151,
     "user": {
      "displayName": "Darshan D",
      "userId": "11054278787583435560"
     },
     "user_tz": -330
    },
    "id": "szH_deUKEL_O",
    "outputId": "f1e7ffc9-2494-4eda-e4ea-e252922aaa72"
   },
   "outputs": [
    {
     "data": {
      "text/plain": [
       "array([1.        , 1.44444444, 1.88888889, 2.33333333, 2.77777778,\n",
       "       3.22222222, 3.66666667, 4.11111111, 4.55555556, 5.        ])"
      ]
     },
     "execution_count": 94,
     "metadata": {},
     "output_type": "execute_result"
    }
   ],
   "source": [
    "np.linspace(1,5,10) #give me 10 numbers between 1 and 5"
   ]
  },
  {
   "cell_type": "code",
   "execution_count": null,
   "metadata": {
    "id": "yhsvkUlJESI1"
   },
   "outputs": [],
   "source": []
  }
 ],
 "metadata": {
  "colab": {
   "authorship_tag": "ABX9TyMf25QhAOHsuVMrHOLAMMnM",
   "provenance": []
  },
  "kernelspec": {
   "display_name": ".venv",
   "language": "python",
   "name": "python3"
  },
  "language_info": {
   "codemirror_mode": {
    "name": "ipython",
    "version": 3
   },
   "file_extension": ".py",
   "mimetype": "text/x-python",
   "name": "python",
   "nbconvert_exporter": "python",
   "pygments_lexer": "ipython3",
   "version": "3.13.1"
  }
 },
 "nbformat": 4,
 "nbformat_minor": 0
}
